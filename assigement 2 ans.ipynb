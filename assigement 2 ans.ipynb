{
 "cells": [
  {
   "cell_type": "code",
   "execution_count": 1,
   "id": "552fbd12-be48-489b-8dd0-a9fcef78a326",
   "metadata": {},
   "outputs": [
    {
     "name": "stdin",
     "output_type": "stream",
     "text": [
      "Enter your marathi Mark 76\n",
      "Enter your Hindi marks 58\n",
      "Enter your English mark 98\n"
     ]
    },
    {
     "name": "stdout",
     "output_type": "stream",
     "text": [
      "total mark 232\n",
      "percentage 77.33333333333333\n",
      "your Grade is C\n"
     ]
    }
   ],
   "source": [
    "# assigement 2\n",
    "\n",
    "#1.\n",
    "A=int(input(\"Enter your marathi Mark\"))\n",
    "B=int(input(\"Enter your Hindi marks\"))\n",
    "C=int(input(\"Enter your English mark\"))\n",
    "\n",
    "total=A+B+C\n",
    "percentage=(total/300)*100\n",
    "print(\"total mark\",total)\n",
    "print(\"percentage\",percentage)\n",
    "if percentage>90:\n",
    "    print(\"your Grade is A\")\n",
    "elif percentage>80 and percentage<=90:\n",
    "    print(\"your Grade is B\")\n",
    "elif percentage>=60 and percentage<=80:\n",
    "    print(\"your Grade is C\")\n",
    "else:\n",
    "    print(\"your Grade is D\")"
   ]
  },
  {
   "cell_type": "code",
   "execution_count": 2,
   "id": "e7f2d12e-799a-4e0b-8503-434d3f83415d",
   "metadata": {},
   "outputs": [
    {
     "name": "stdin",
     "output_type": "stream",
     "text": [
      "Enter your bike price 50000\n"
     ]
    },
    {
     "name": "stdout",
     "output_type": "stream",
     "text": [
      "You need to pay 5% Tax\n"
     ]
    }
   ],
   "source": [
    "#2.\n",
    "\n",
    "price=int(input(\"Enter your bike price\"))\n",
    "\n",
    "if price>100000:\n",
    "    print(\"You need to Pay 15% Tax\")\n",
    "elif price>50000 and price<=100000:\n",
    "    print(\"You need to pay 10% Tax\")\n",
    "else:\n",
    "    print(\"You need to pay 5% Tax\")\n"
   ]
  },
  {
   "cell_type": "code",
   "execution_count": 3,
   "id": "dcc1672c-e455-4b63-bedd-1cd35b1c3e18",
   "metadata": {},
   "outputs": [
    {
     "name": "stdout",
     "output_type": "stream",
     "text": [
      "We have to 3 best city Delhi,Agra,jaipur\n"
     ]
    },
    {
     "name": "stdin",
     "output_type": "stream",
     "text": [
      "Which city would you like to go agra\n"
     ]
    },
    {
     "name": "stdout",
     "output_type": "stream",
     "text": [
      "visit Taj Mahal\n"
     ]
    }
   ],
   "source": [
    "#3.\n",
    "\n",
    "print(\"We have to 3 best city Delhi,Agra,jaipur\")\n",
    "city=str(input(\"Which city would you like to go\"))\n",
    "\n",
    "if city=='Delhi' or city=='delhi':\n",
    "    print(\"visit red fort\")\n",
    "elif city=='Agra' or city=='agra':\n",
    "    print(\"visit Taj Mahal\")\n",
    "elif city=='Jaipur' or city=='jaipur':\n",
    "    print(\" visit jal mahal\")\n",
    "else:\n",
    "    print(\"try again\")"
   ]
  },
  {
   "cell_type": "code",
   "execution_count": 4,
   "id": "cbde4013-1775-4364-8729-5001809fe572",
   "metadata": {},
   "outputs": [
    {
     "name": "stdin",
     "output_type": "stream",
     "text": [
      "Enter your number: 9\n"
     ]
    },
    {
     "name": "stdout",
     "output_type": "stream",
     "text": [
      "9 is divisible by 3\n"
     ]
    }
   ],
   "source": [
    "#4\n",
    "num1=int(input(\"Enter your number:\"))\n",
    "if(num1%3==0):\n",
    "    print(\"{} is divisible by 3\".format(num1))\n",
    "else:\n",
    "    print(\"{} is not divisible by 3\".format(num1))\n"
   ]
  },
  {
   "cell_type": "code",
   "execution_count": 5,
   "id": "30b05cea-dea0-4e3a-bc6e-3063a2b36f1e",
   "metadata": {},
   "outputs": [
    {
     "name": "stdout",
     "output_type": "stream",
     "text": [
      "Hello world\n",
      "Hello world\n",
      "Hello world\n",
      "Hello world\n"
     ]
    }
   ],
   "source": [
    "#5.\n",
    "\n",
    "i = 1\n",
    "while i < 5:\n",
    "    print(\"Hello world\")\n",
    "    i += 1"
   ]
  },
  {
   "cell_type": "code",
   "execution_count": 6,
   "id": "8ec214e5-c143-49b1-bf06-d4a9946e0e75",
   "metadata": {},
   "outputs": [
    {
     "name": "stdout",
     "output_type": "stream",
     "text": [
      "1st\n",
      "\n"
     ]
    },
    {
     "name": "stdin",
     "output_type": "stream",
     "text": [
      "Enter number of rows :  5\n"
     ]
    },
    {
     "name": "stdout",
     "output_type": "stream",
     "text": [
      "* \n",
      "* * \n",
      "* * * \n",
      "* * * * \n",
      "* * * * * \n",
      "\n",
      "2nd\n",
      "\n",
      "* * * * * \n",
      "* * * * \n",
      "* * * \n",
      "* * \n",
      "* \n",
      "\n",
      "3rd\n",
      "\n",
      "        * \n",
      "      * * \n",
      "    * * * \n",
      "  * * * * \n",
      "* * * * * \n",
      "  * * * * \n",
      "    * * * \n",
      "      * * \n",
      "        * \n",
      "          \n"
     ]
    }
   ],
   "source": [
    "#6.\n",
    "\n",
    "print(\"1st\\n\")\n",
    "n = int(input('Enter number of rows : '))\n",
    " \n",
    "i = 1\n",
    "while i <= n :\n",
    "    j = 1\n",
    "    while j <= i:\n",
    "        print(\"*\", end = \" \")\n",
    "        j += 1\n",
    "    print()\n",
    "    i += 1\n",
    "    \n",
    "    \n",
    "print('\\n2nd\\n')\n",
    " \n",
    "i = 1\n",
    "while i <= n :\n",
    "    j = n\n",
    "    while j >= i:\n",
    "        print(\"*\", end = \" \")\n",
    "        j -= 1\n",
    "    print()\n",
    "    i += 1\n",
    "\n",
    "print('\\n3rd\\n')\n",
    "\n",
    "i = 1\n",
    "while i <= n:\n",
    "    j = i\n",
    "    while j < n:\n",
    "        # display space\n",
    "        print(' ', end=' ')\n",
    "        j += 1\n",
    "    k = 1\n",
    "    while k <= i:\n",
    "        print('*', end=' ')\n",
    "        k += 1\n",
    "    print()\n",
    "    i += 1\n",
    "\n",
    "i = n\n",
    "while i >= 1:\n",
    "    j = i\n",
    "    while j <= n:\n",
    "        print(' ', end=' ')\n",
    "        j += 1\n",
    "    k = 1\n",
    "    while k < i:\n",
    "        print('*', end=' ')\n",
    "        k += 1\n",
    "    print('')\n",
    "    i -= 1"
   ]
  },
  {
   "cell_type": "code",
   "execution_count": null,
   "id": "36617cae-da24-426a-b8aa-a5180cf36467",
   "metadata": {},
   "outputs": [],
   "source": []
  }
 ],
 "metadata": {
  "kernelspec": {
   "display_name": "Python 3 (ipykernel)",
   "language": "python",
   "name": "python3"
  },
  "language_info": {
   "codemirror_mode": {
    "name": "ipython",
    "version": 3
   },
   "file_extension": ".py",
   "mimetype": "text/x-python",
   "name": "python",
   "nbconvert_exporter": "python",
   "pygments_lexer": "ipython3",
   "version": "3.10.8"
  }
 },
 "nbformat": 4,
 "nbformat_minor": 5
}
